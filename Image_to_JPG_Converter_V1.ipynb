{
  "nbformat": 4,
  "nbformat_minor": 0,
  "metadata": {
    "colab": {
      "provenance": []
    },
    "kernelspec": {
      "name": "python3",
      "display_name": "Python 3"
    },
    "language_info": {
      "name": "python"
    }
  },
  "cells": [
    {
      "cell_type": "markdown",
      "source": [
        "#Upload Files\n"
      ],
      "metadata": {
        "id": "kMA2Yi5vaMWr"
      }
    },
    {
      "cell_type": "code",
      "execution_count": null,
      "metadata": {
        "id": "8Xb5kFSNZoH0"
      },
      "outputs": [],
      "source": [
        "\n",
        "from google.colab import files\n",
        "\n",
        "\n",
        "uploaded_files = files.upload()\n",
        "\n",
        "\n",
        "for filename in uploaded_files.keys():\n",
        "    print(f'Uploaded file: {filename}')\n"
      ]
    },
    {
      "cell_type": "markdown",
      "source": [
        "#Process Files\n"
      ],
      "metadata": {
        "id": "2k9pPUc8aRL_"
      }
    },
    {
      "cell_type": "code",
      "source": [
        "\n",
        "from PIL import Image\n",
        "import os\n",
        "\n",
        "output_dir = 'converted_images'\n",
        "os.makedirs(output_dir, exist_ok=True)\n",
        "\n",
        "for filename in uploaded_files.keys():\n",
        "    if filename.lower().endswith(('png', 'jpeg', 'gif', 'bmp', 'tiff', 'webp', 'ico')):\n",
        "        with Image.open(filename) as img:\n",
        "            basename = os.path.splitext(filename)[0]\n",
        "            img.convert('RGB').save(os.path.join(output_dir, f'{basename}.jpg'), 'JPEG')\n",
        "            print(f'{filename} has been converted to {basename}.jpg')\n",
        "    else:\n",
        "        print(f'{filename} is not a supported image file format, skipping...')\n",
        "\n"
      ],
      "metadata": {
        "id": "zNWRQVFmaWh6"
      },
      "execution_count": null,
      "outputs": []
    },
    {
      "cell_type": "markdown",
      "source": [
        "#Download"
      ],
      "metadata": {
        "id": "X54y69CoaYzw"
      }
    },
    {
      "cell_type": "code",
      "source": [
        "\n",
        "from google.colab import files\n",
        "import shutil\n",
        "import zipfile\n",
        "\n",
        "zip_filename = 'converted_images.zip'\n",
        "output_dir = '/path/to/output'  # Replace with your actual output directory\n",
        "\n",
        "with zipfile.ZipFile(zip_filename, 'w') as zipf:\n",
        "    for root, dirs, files in os.walk(output_dir):\n",
        "        for file in files:\n",
        "            zipf.write(os.path.join(root, file), file)\n",
        "\n",
        "files.download(zip_filename)\n"
      ],
      "metadata": {
        "id": "Pry-8gc9abf_"
      },
      "execution_count": null,
      "outputs": []
    }
  ]
}